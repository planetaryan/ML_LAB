{
 "cells": [
  {
   "cell_type": "code",
   "execution_count": 3,
   "id": "79235db0",
   "metadata": {},
   "outputs": [],
   "source": [
    "import pandas as pd\n",
    "import numpy as np"
   ]
  },
  {
   "cell_type": "code",
   "execution_count": 2,
   "id": "098aafd1",
   "metadata": {},
   "outputs": [],
   "source": [
    "df=pd.DataFrame({\n",
    "    'ML_lab_hrs':[12,13,5,6,8,7,6,3,4,10],\n",
    "    'score':[9,10,5,6,7,8,5,2,3,9]\n",
    "})\n",
    "df.to_csv('my_data.csv')"
   ]
  },
  {
   "cell_type": "code",
   "execution_count": 5,
   "id": "a85133d2",
   "metadata": {},
   "outputs": [
    {
     "name": "stdout",
     "output_type": "stream",
     "text": [
      "7.4\n",
      "6.4\n"
     ]
    }
   ],
   "source": [
    "#Pedhazur formula\n",
    "x_mean=df['ML_lab_hrs'].mean()\n",
    "y_mean=df['score'].mean()\n",
    "print(x_mean)\n",
    "print(y_mean)"
   ]
  },
  {
   "cell_type": "code",
   "execution_count": 8,
   "id": "82815a19",
   "metadata": {},
   "outputs": [
    {
     "data": {
      "text/plain": [
       "0.750996015936255"
      ]
     },
     "execution_count": 8,
     "metadata": {},
     "output_type": "execute_result"
    }
   ],
   "source": [
    "numerator_b1=np.sum((df['ML_lab_hrs']-x_mean)*(df['score']-y_mean))\n",
    "denominator_b1=np.sum((df['ML_lab_hrs']-x_mean)**2)\n",
    "b1=numerator_b1/denominator_b1\n",
    "b1"
   ]
  },
  {
   "cell_type": "code",
   "execution_count": 9,
   "id": "69293b03",
   "metadata": {},
   "outputs": [
    {
     "data": {
      "text/plain": [
       "0.8426294820717128"
      ]
     },
     "execution_count": 9,
     "metadata": {},
     "output_type": "execute_result"
    }
   ],
   "source": [
    "b0=y_mean-(b1*x_mean)\n",
    "b0"
   ]
  },
  {
   "cell_type": "code",
   "execution_count": 10,
   "id": "4baae27e",
   "metadata": {},
   "outputs": [
    {
     "data": {
      "text/plain": [
       "0     9.854582\n",
       "1    10.605578\n",
       "2     4.597610\n",
       "3     5.348606\n",
       "4     6.850598\n",
       "5     6.099602\n",
       "6     5.348606\n",
       "7     3.095618\n",
       "8     3.846614\n",
       "9     8.352590\n",
       "Name: predicted, dtype: float64"
      ]
     },
     "execution_count": 10,
     "metadata": {},
     "output_type": "execute_result"
    }
   ],
   "source": [
    "df['predicted']=b0 + (df['ML_lab_hrs']*b1)"
   ]
  },
  {
   "cell_type": "code",
   "execution_count": 12,
   "id": "4acc39ae",
   "metadata": {},
   "outputs": [
    {
     "data": {
      "text/html": [
       "<div>\n",
       "<style scoped>\n",
       "    .dataframe tbody tr th:only-of-type {\n",
       "        vertical-align: middle;\n",
       "    }\n",
       "\n",
       "    .dataframe tbody tr th {\n",
       "        vertical-align: top;\n",
       "    }\n",
       "\n",
       "    .dataframe thead th {\n",
       "        text-align: right;\n",
       "    }\n",
       "</style>\n",
       "<table border=\"1\" class=\"dataframe\">\n",
       "  <thead>\n",
       "    <tr style=\"text-align: right;\">\n",
       "      <th></th>\n",
       "      <th>predicted</th>\n",
       "      <th>score</th>\n",
       "    </tr>\n",
       "  </thead>\n",
       "  <tbody>\n",
       "    <tr>\n",
       "      <th>0</th>\n",
       "      <td>9.854582</td>\n",
       "      <td>9</td>\n",
       "    </tr>\n",
       "    <tr>\n",
       "      <th>1</th>\n",
       "      <td>10.605578</td>\n",
       "      <td>10</td>\n",
       "    </tr>\n",
       "    <tr>\n",
       "      <th>2</th>\n",
       "      <td>4.597610</td>\n",
       "      <td>5</td>\n",
       "    </tr>\n",
       "    <tr>\n",
       "      <th>3</th>\n",
       "      <td>5.348606</td>\n",
       "      <td>6</td>\n",
       "    </tr>\n",
       "    <tr>\n",
       "      <th>4</th>\n",
       "      <td>6.850598</td>\n",
       "      <td>7</td>\n",
       "    </tr>\n",
       "    <tr>\n",
       "      <th>5</th>\n",
       "      <td>6.099602</td>\n",
       "      <td>8</td>\n",
       "    </tr>\n",
       "    <tr>\n",
       "      <th>6</th>\n",
       "      <td>5.348606</td>\n",
       "      <td>5</td>\n",
       "    </tr>\n",
       "    <tr>\n",
       "      <th>7</th>\n",
       "      <td>3.095618</td>\n",
       "      <td>2</td>\n",
       "    </tr>\n",
       "    <tr>\n",
       "      <th>8</th>\n",
       "      <td>3.846614</td>\n",
       "      <td>3</td>\n",
       "    </tr>\n",
       "    <tr>\n",
       "      <th>9</th>\n",
       "      <td>8.352590</td>\n",
       "      <td>9</td>\n",
       "    </tr>\n",
       "  </tbody>\n",
       "</table>\n",
       "</div>"
      ],
      "text/plain": [
       "   predicted  score\n",
       "0   9.854582      9\n",
       "1  10.605578     10\n",
       "2   4.597610      5\n",
       "3   5.348606      6\n",
       "4   6.850598      7\n",
       "5   6.099602      8\n",
       "6   5.348606      5\n",
       "7   3.095618      2\n",
       "8   3.846614      3\n",
       "9   8.352590      9"
      ]
     },
     "execution_count": 12,
     "metadata": {},
     "output_type": "execute_result"
    }
   ],
   "source": [
    "df[['predicted','score']]"
   ]
  },
  {
   "cell_type": "code",
   "execution_count": 13,
   "id": "921d5c49",
   "metadata": {},
   "outputs": [
    {
     "data": {
      "text/plain": [
       "0.8817539565211134"
      ]
     },
     "execution_count": 13,
     "metadata": {},
     "output_type": "execute_result"
    }
   ],
   "source": [
    "import math\n",
    "rmse=math.sqrt(np.sum((df['predicted']-df['score'])**2)/10)\n",
    "rmse"
   ]
  },
  {
   "cell_type": "code",
   "execution_count": 16,
   "id": "6227b522",
   "metadata": {},
   "outputs": [
    {
     "name": "stdout",
     "output_type": "stream",
     "text": [
      "[[ 10  74]\n",
      " [ 74 648]]\n"
     ]
    }
   ],
   "source": [
    "# Calculus method\n",
    "n=10\n",
    "xi_sum=np.sum(df['ML_lab_hrs'])\n",
    "xi_sq_sum=np.sum(df['ML_lab_hrs']**2)\n",
    "mat1=np.array([[n,xi_sum],\n",
    "              [xi_sum,xi_sq_sum]])\n",
    "print(mat1)"
   ]
  },
  {
   "cell_type": "code",
   "execution_count": 18,
   "id": "a6b874bb",
   "metadata": {},
   "outputs": [
    {
     "data": {
      "text/plain": [
       "array([[ 0.64541833, -0.07370518],\n",
       "       [-0.07370518,  0.00996016]])"
      ]
     },
     "execution_count": 18,
     "metadata": {},
     "output_type": "execute_result"
    }
   ],
   "source": [
    "mat1_inv=np.linalg.inv(mat1)\n",
    "mat1_inv"
   ]
  },
  {
   "cell_type": "code",
   "execution_count": 23,
   "id": "10156648",
   "metadata": {},
   "outputs": [
    {
     "name": "stdout",
     "output_type": "stream",
     "text": [
      "[ 64 549]\n"
     ]
    }
   ],
   "source": [
    "yi_sum=np.sum(df['score'])\n",
    "xy_sum=np.sum(df['ML_lab_hrs']*df['score'])\n",
    "mat2=np.array([yi_sum,xy_sum])\n",
    "print(mat2)"
   ]
  },
  {
   "cell_type": "code",
   "execution_count": 24,
   "id": "f7e152de",
   "metadata": {},
   "outputs": [
    {
     "name": "stdout",
     "output_type": "stream",
     "text": [
      "(2, 2)\n",
      "(2,)\n"
     ]
    }
   ],
   "source": [
    "print(mat1_inv.shape)\n",
    "print(mat2.shape)"
   ]
  },
  {
   "cell_type": "code",
   "execution_count": 25,
   "id": "383bc692",
   "metadata": {},
   "outputs": [
    {
     "data": {
      "text/plain": [
       "array([0.84262948, 0.75099602])"
      ]
     },
     "execution_count": 25,
     "metadata": {},
     "output_type": "execute_result"
    }
   ],
   "source": [
    "coeff=np.dot(mat1_inv,mat2)\n",
    "coeff"
   ]
  },
  {
   "cell_type": "code",
   "execution_count": 26,
   "id": "9e650b48",
   "metadata": {},
   "outputs": [
    {
     "data": {
      "text/html": [
       "<div>\n",
       "<style scoped>\n",
       "    .dataframe tbody tr th:only-of-type {\n",
       "        vertical-align: middle;\n",
       "    }\n",
       "\n",
       "    .dataframe tbody tr th {\n",
       "        vertical-align: top;\n",
       "    }\n",
       "\n",
       "    .dataframe thead th {\n",
       "        text-align: right;\n",
       "    }\n",
       "</style>\n",
       "<table border=\"1\" class=\"dataframe\">\n",
       "  <thead>\n",
       "    <tr style=\"text-align: right;\">\n",
       "      <th></th>\n",
       "      <th>score</th>\n",
       "      <th>predicted</th>\n",
       "      <th>calculus_predicted</th>\n",
       "    </tr>\n",
       "  </thead>\n",
       "  <tbody>\n",
       "    <tr>\n",
       "      <th>0</th>\n",
       "      <td>9</td>\n",
       "      <td>9.854582</td>\n",
       "      <td>9.854582</td>\n",
       "    </tr>\n",
       "    <tr>\n",
       "      <th>1</th>\n",
       "      <td>10</td>\n",
       "      <td>10.605578</td>\n",
       "      <td>10.605578</td>\n",
       "    </tr>\n",
       "    <tr>\n",
       "      <th>2</th>\n",
       "      <td>5</td>\n",
       "      <td>4.597610</td>\n",
       "      <td>4.597610</td>\n",
       "    </tr>\n",
       "    <tr>\n",
       "      <th>3</th>\n",
       "      <td>6</td>\n",
       "      <td>5.348606</td>\n",
       "      <td>5.348606</td>\n",
       "    </tr>\n",
       "    <tr>\n",
       "      <th>4</th>\n",
       "      <td>7</td>\n",
       "      <td>6.850598</td>\n",
       "      <td>6.850598</td>\n",
       "    </tr>\n",
       "    <tr>\n",
       "      <th>5</th>\n",
       "      <td>8</td>\n",
       "      <td>6.099602</td>\n",
       "      <td>6.099602</td>\n",
       "    </tr>\n",
       "    <tr>\n",
       "      <th>6</th>\n",
       "      <td>5</td>\n",
       "      <td>5.348606</td>\n",
       "      <td>5.348606</td>\n",
       "    </tr>\n",
       "    <tr>\n",
       "      <th>7</th>\n",
       "      <td>2</td>\n",
       "      <td>3.095618</td>\n",
       "      <td>3.095618</td>\n",
       "    </tr>\n",
       "    <tr>\n",
       "      <th>8</th>\n",
       "      <td>3</td>\n",
       "      <td>3.846614</td>\n",
       "      <td>3.846614</td>\n",
       "    </tr>\n",
       "    <tr>\n",
       "      <th>9</th>\n",
       "      <td>9</td>\n",
       "      <td>8.352590</td>\n",
       "      <td>8.352590</td>\n",
       "    </tr>\n",
       "  </tbody>\n",
       "</table>\n",
       "</div>"
      ],
      "text/plain": [
       "   score  predicted  calculus_predicted\n",
       "0      9   9.854582            9.854582\n",
       "1     10  10.605578           10.605578\n",
       "2      5   4.597610            4.597610\n",
       "3      6   5.348606            5.348606\n",
       "4      7   6.850598            6.850598\n",
       "5      8   6.099602            6.099602\n",
       "6      5   5.348606            5.348606\n",
       "7      2   3.095618            3.095618\n",
       "8      3   3.846614            3.846614\n",
       "9      9   8.352590            8.352590"
      ]
     },
     "execution_count": 26,
     "metadata": {},
     "output_type": "execute_result"
    }
   ],
   "source": [
    "b0_calc=coeff[0]\n",
    "b1_calc=coeff[1]\n",
    "df['calculus_predicted']=b0_calc + (b1_calc*df['ML_lab_hrs'])\n",
    "df[['score','predicted','calculus_predicted']]"
   ]
  },
  {
   "cell_type": "code",
   "execution_count": 27,
   "id": "c279e287",
   "metadata": {},
   "outputs": [],
   "source": [
    "#scatter plot\n",
    "import matplotlib.pyplot as plt"
   ]
  },
  {
   "cell_type": "code",
   "execution_count": 30,
   "id": "1b494303",
   "metadata": {},
   "outputs": [
    {
     "data": {
      "text/plain": [
       "<matplotlib.collections.PathCollection at 0x7d16873f3530>"
      ]
     },
     "execution_count": 30,
     "metadata": {},
     "output_type": "execute_result"
    },
    {
     "data": {
      "image/png": "[encoded data removed]",
      "text/plain": [
       "<Figure size 640x480 with 1 Axes>"
      ]
     },
     "metadata": {},
     "output_type": "display_data"
    }
   ],
   "source": [
    "plt.scatter(df['ML_lab_hrs'],df['score'],color='red',marker='o')\n",
    "plt.scatter(df['ML_lab_hrs'],df['predicted'],color='blue',marker='o')"
   ]
  },
  {
   "cell_type": "code",
   "execution_count": 31,
   "id": "7619a03e",
   "metadata": {},
   "outputs": [
    {
     "data": {
      "text/plain": [
       "8.352589641434262"
      ]
     },
     "execution_count": 31,
     "metadata": {},
     "output_type": "execute_result"
    }
   ],
   "source": [
    "#Test with lab hrs=10\n",
    "\n",
    "y=b0 + (b1*10)\n",
    "y"
   ]
  }
 ],
 "metadata": {
  "kernelspec": {
   "display_name": "Python 3 (ipykernel)",
   "language": "python",
   "name": "python3"
  },
  "language_info": {
   "codemirror_mode": {
    "name": "ipython",
    "version": 3
   },
   "file_extension": ".py",
   "mimetype": "text/x-python",
   "name": "python",
   "nbconvert_exporter": "python",
   "pygments_lexer": "ipython3",
   "version": "3.12.3"
  }
 },
 "nbformat": 4,
 "nbformat_minor": 5
}
