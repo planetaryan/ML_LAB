{
 "cells": [
  {
   "cell_type": "code",
   "execution_count": 6,
   "id": "98c529b5",
   "metadata": {},
   "outputs": [],
   "source": [
    "import numpy as np"
   ]
  },
  {
   "cell_type": "markdown",
   "id": "ba42a538",
   "metadata": {},
   "source": [
    "Q1"
   ]
  },
  {
   "cell_type": "code",
   "execution_count": 7,
   "id": "7bc2e4e2",
   "metadata": {},
   "outputs": [
    {
     "data": {
      "text/plain": [
       "array([0, 1, 2, 3, 4, 5, 6, 7, 8])"
      ]
     },
     "execution_count": 7,
     "metadata": {},
     "output_type": "execute_result"
    }
   ],
   "source": [
    "assign1=np.arange(9)\n",
    "assign1"
   ]
  },
  {
   "cell_type": "code",
   "execution_count": 8,
   "id": "f831ec56",
   "metadata": {},
   "outputs": [
    {
     "data": {
      "text/plain": [
       "array([[0, 1, 2],\n",
       "       [3, 4, 5],\n",
       "       [6, 7, 8]])"
      ]
     },
     "execution_count": 8,
     "metadata": {},
     "output_type": "execute_result"
    }
   ],
   "source": [
    "assign1=assign1.reshape(3,3)\n",
    "assign1"
   ]
  },
  {
   "cell_type": "markdown",
   "id": "c8fa4e9f",
   "metadata": {},
   "source": [
    "Q2"
   ]
  },
  {
   "cell_type": "code",
   "execution_count": 9,
   "id": "7fe2df09",
   "metadata": {},
   "outputs": [
    {
     "data": {
      "text/plain": [
       "array([0, 1, 2, 3, 4, 5, 6, 7, 8, 9])"
      ]
     },
     "execution_count": 9,
     "metadata": {},
     "output_type": "execute_result"
    }
   ],
   "source": [
    "assign2=np.arange(10)\n",
    "assign2"
   ]
  },
  {
   "cell_type": "code",
   "execution_count": 12,
   "id": "7020e2e2",
   "metadata": {},
   "outputs": [
    {
     "data": {
      "text/plain": [
       "10"
      ]
     },
     "execution_count": 12,
     "metadata": {},
     "output_type": "execute_result"
    }
   ],
   "source": [
    "assign2.size"
   ]
  },
  {
   "cell_type": "code",
   "execution_count": 13,
   "id": "0df634f2",
   "metadata": {},
   "outputs": [],
   "source": [
    "for i in range(assign2.size):\n",
    "    if assign2[i]%2!=0:\n",
    "        assign2[i]=-1"
   ]
  },
  {
   "cell_type": "code",
   "execution_count": 14,
   "id": "39b7feee",
   "metadata": {},
   "outputs": [
    {
     "data": {
      "text/plain": [
       "array([ 0, -1,  2, -1,  4, -1,  6, -1,  8, -1])"
      ]
     },
     "execution_count": 14,
     "metadata": {},
     "output_type": "execute_result"
    }
   ],
   "source": [
    "assign2"
   ]
  },
  {
   "cell_type": "markdown",
   "id": "470304ca",
   "metadata": {},
   "source": [
    "Q3"
   ]
  },
  {
   "cell_type": "code",
   "execution_count": 28,
   "id": "b52a34eb",
   "metadata": {},
   "outputs": [],
   "source": [
    "x = np.array([21, 64, 86, 22, 74, 55, 81, 79, 90, 89]) \n",
    "y = np.array([21, 7, 3, 45, 10, 29, 55, 4, 37, 18])\n",
    "o1=np.array([])\n",
    "o2=np.array([])"
   ]
  },
  {
   "cell_type": "code",
   "execution_count": 36,
   "id": "409045a7",
   "metadata": {},
   "outputs": [],
   "source": [
    "for i in range(x.size):\n",
    "    if(x[i]>y[i]):\n",
    "        o1=np.append(o1,[i])\n",
    "    elif(x[i]==y[i]):\n",
    "        o2=np.append(o2,[i])"
   ]
  },
  {
   "cell_type": "code",
   "execution_count": 37,
   "id": "f8fb19a1",
   "metadata": {},
   "outputs": [
    {
     "name": "stdout",
     "output_type": "stream",
     "text": [
      "[1. 2. 4. 5. 6. 7. 8. 9.]\n",
      "[0.]\n"
     ]
    }
   ],
   "source": [
    "print(o1)\n",
    "print(o2)"
   ]
  },
  {
   "cell_type": "markdown",
   "id": "053a84f6",
   "metadata": {},
   "source": [
    "Q4"
   ]
  },
  {
   "cell_type": "code",
   "execution_count": 38,
   "id": "0b748f8c",
   "metadata": {},
   "outputs": [],
   "source": [
    "assign4= np.arange(100).reshape(5,-1)"
   ]
  },
  {
   "cell_type": "code",
   "execution_count": 41,
   "id": "5658a6fd",
   "metadata": {},
   "outputs": [
    {
     "data": {
      "text/plain": [
       "array([[ 0,  1,  2,  3],\n",
       "       [20, 21, 22, 23],\n",
       "       [40, 41, 42, 43],\n",
       "       [60, 61, 62, 63],\n",
       "       [80, 81, 82, 83]])"
      ]
     },
     "execution_count": 41,
     "metadata": {},
     "output_type": "execute_result"
    }
   ],
   "source": [
    "assign4[:,:4]"
   ]
  },
  {
   "cell_type": "markdown",
   "id": "184e394f",
   "metadata": {},
   "source": [
    "Additional questions\n",
    "Q1"
   ]
  },
  {
   "cell_type": "code",
   "execution_count": 47,
   "id": "a990d679",
   "metadata": {},
   "outputs": [
    {
     "data": {
      "text/plain": [
       "array([34, 33, 36, 34, 31, 32, 36, 39, 37, 39])"
      ]
     },
     "execution_count": 47,
     "metadata": {},
     "output_type": "execute_result"
    }
   ],
   "source": [
    "x=np.random.randint(30,40,size=(10))\n",
    "x"
   ]
  },
  {
   "cell_type": "markdown",
   "id": "ff0b2da3",
   "metadata": {},
   "source": [
    "Q2 "
   ]
  },
  {
   "cell_type": "code",
   "execution_count": 56,
   "id": "b8a13c87",
   "metadata": {},
   "outputs": [],
   "source": [
    "a = np.array(([1, 2, 3], [4, 5, 6], [7, 8, 10])) \n",
    "b = np.array(([7, 8, 10] ,[4, 5, 6], [1, 2, 3]))"
   ]
  },
  {
   "cell_type": "markdown",
   "id": "a93af124",
   "metadata": {},
   "source": [
    "i."
   ]
  },
  {
   "cell_type": "code",
   "execution_count": 58,
   "id": "a6cf2e30",
   "metadata": {},
   "outputs": [],
   "source": [
    "c=a+b\n",
    "e=a-b"
   ]
  },
  {
   "cell_type": "code",
   "execution_count": 59,
   "id": "e6a026d1",
   "metadata": {},
   "outputs": [
    {
     "name": "stdout",
     "output_type": "stream",
     "text": [
      "[[ 8 10 13]\n",
      " [ 8 10 12]\n",
      " [ 8 10 13]]\n",
      "[[-6 -6 -7]\n",
      " [ 0  0  0]\n",
      " [ 6  6  7]]\n"
     ]
    }
   ],
   "source": [
    "print(c)\n",
    "print(e)"
   ]
  },
  {
   "cell_type": "markdown",
   "id": "b92e97f5",
   "metadata": {},
   "source": [
    "ii."
   ]
  },
  {
   "cell_type": "code",
   "execution_count": 63,
   "id": "9365a702",
   "metadata": {},
   "outputs": [
    {
     "name": "stdout",
     "output_type": "stream",
     "text": [
      "46\n",
      "[12 15 19]\n",
      "[31 30 31]\n"
     ]
    }
   ],
   "source": [
    "print(np.sum(a))\n",
    "print(np.sum(b,axis=0))\n",
    "print(np.sum(c,axis=1))"
   ]
  },
  {
   "cell_type": "markdown",
   "id": "49fc8aff",
   "metadata": {},
   "source": [
    "iii."
   ]
  },
  {
   "cell_type": "code",
   "execution_count": 64,
   "id": "73302f46",
   "metadata": {},
   "outputs": [
    {
     "data": {
      "text/plain": [
       "array([[ 18,  24,  31],\n",
       "       [ 54,  69,  88],\n",
       "       [ 91, 116, 148]])"
      ]
     },
     "execution_count": 64,
     "metadata": {},
     "output_type": "execute_result"
    }
   ],
   "source": [
    "d=np.dot(a,b)\n",
    "d"
   ]
  },
  {
   "cell_type": "markdown",
   "id": "04bb01ed",
   "metadata": {},
   "source": [
    "iv."
   ]
  },
  {
   "cell_type": "code",
   "execution_count": 65,
   "id": "43eb9efb",
   "metadata": {},
   "outputs": [
    {
     "data": {
      "text/plain": [
       "array([[ 8, 10, 13],\n",
       "       [ 8, 10, 12],\n",
       "       [ 8, 10, 13]])"
      ]
     },
     "execution_count": 65,
     "metadata": {},
     "output_type": "execute_result"
    }
   ],
   "source": [
    "e=np.sort(c)\n",
    "e"
   ]
  },
  {
   "cell_type": "markdown",
   "id": "e68e6b5f",
   "metadata": {},
   "source": [
    "v."
   ]
  },
  {
   "cell_type": "code",
   "execution_count": 66,
   "id": "75a0318d",
   "metadata": {},
   "outputs": [
    {
     "data": {
      "text/plain": [
       "array([[ 8,  8,  8],\n",
       "       [10, 10, 10],\n",
       "       [13, 12, 13]])"
      ]
     },
     "execution_count": 66,
     "metadata": {},
     "output_type": "execute_result"
    }
   ],
   "source": [
    "np.transpose(e)"
   ]
  }
 ],
 "metadata": {
  "kernelspec": {
   "display_name": "Python 3 (ipykernel)",
   "language": "python",
   "name": "python3"
  },
  "language_info": {
   "codemirror_mode": {
    "name": "ipython",
    "version": 3
   },
   "file_extension": ".py",
   "mimetype": "text/x-python",
   "name": "python",
   "nbconvert_exporter": "python",
   "pygments_lexer": "ipython3",
   "version": "3.12.3"
  }
 },
 "nbformat": 4,
 "nbformat_minor": 5
}
