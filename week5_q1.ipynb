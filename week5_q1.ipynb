{
 "cells": [
  {
   "cell_type": "code",
   "execution_count": 1,
   "id": "8b9f97f2",
   "metadata": {},
   "outputs": [],
   "source": [
    "import pandas as pd\n",
    "import numpy as np"
   ]
  },
  {
   "cell_type": "code",
   "execution_count": 2,
   "id": "4240166c",
   "metadata": {},
   "outputs": [],
   "source": [
    "df=pd.DataFrame({'m_height':[58,62,60,64,67,70],\n",
    "                'd_height':[60,60,58,60,70,72]})\n",
    "\n",
    "df.to_csv('height_data.csv')"
   ]
  },
  {
   "cell_type": "code",
   "execution_count": 20,
   "id": "3dd3a6c5",
   "metadata": {},
   "outputs": [
    {
     "name": "stdout",
     "output_type": "stream",
     "text": [
      "b0=0.006\n",
      "b1=0.34800000000000003\n",
      "\n",
      "b0=0.009981\n",
      "b1=0.578898\n",
      "\n",
      "b0=0.012622393499999999\n",
      "b1=0.732098823\n",
      "\n",
      "b0=0.014374958087249999\n",
      "b1=0.8337475690605\n",
      "\n",
      "b0=0.015537784690890375\n",
      "b1=0.9011915120716417\n",
      "\n",
      "b0=0.016309320142405763\n",
      "b1=0.9459405682595343\n",
      "\n",
      "b0=0.01644285768718241\n",
      "b1=0.9542198960356865\n",
      "\n",
      "b0=0.016525050045992435\n",
      "b1=0.959315822281908\n",
      "\n",
      "b0=0.016575639442840007\n",
      "b1=0.9624523648864575\n",
      "\n",
      "b0=0.016606777216599686\n",
      "b1=0.9643829068595576\n",
      "\n",
      "b0=0.016625942516348767\n",
      "b1=0.9655711554440007\n",
      "\n",
      "b0=0.016637738758344327\n",
      "b1=0.9663025224477255\n",
      "\n",
      "b0=0.01663825984978214\n",
      "b1=0.9663337879339943\n",
      "\n",
      "b0=0.016638593296193195\n",
      "b1=0.9663537947186577\n",
      "\n",
      "b0=0.01663880666855163\n",
      "b1=0.9663665970601637\n",
      "\n",
      "b0=0.016638943205523792\n",
      "b1=0.9663747892784934\n",
      "\n",
      "b0=0.01663903057553228\n",
      "b1=0.9663800314790026\n",
      "\n",
      "b0=0.016639086483600712\n",
      "b1=0.9663833859631085\n",
      "\n",
      "b0=0.016452568904788457\n",
      "b1=0.9544462609191242\n",
      "\n",
      "b0=0.016342467578015583\n",
      "b1=0.9473997760056603\n",
      "\n",
      "b0=0.016277474764821557\n",
      "b1=0.9432402359612425\n",
      "\n",
      "b0=0.016239109507193122\n",
      "b1=0.9407848594730227\n",
      "\n",
      "b0=0.016216462495615057\n",
      "b1=0.9393354507320266\n",
      "\n",
      "b0=0.016203093964680525\n",
      "b1=0.9384798647522166\n",
      "\n"
     ]
    }
   ],
   "source": [
    "# linear regression with gradient descent\n",
    "b0,b1=0,0\n",
    "lr=0.0001\n",
    "errors=[]\n",
    "for i in range(4):\n",
    "    for j in range(len(df)):\n",
    "        \n",
    "        y_pred=b0 + (b1*df['m_height'][i])\n",
    "        error=y_pred-df['d_height'][i]\n",
    "    \n",
    "        b0=b0-(lr*error)\n",
    "        b1=b1-(lr*error*df['m_height'][i])\n",
    "        print(f'b0={b0}\\nb1={b1}\\n')\n",
    "    errors.append(error)"
   ]
  },
  {
   "cell_type": "code",
   "execution_count": 10,
   "id": "6ece38b0",
   "metadata": {},
   "outputs": [
    {
     "data": {
      "text/plain": [
       "0   -5.551965\n",
       "1   -1.798045\n",
       "2   -1.675005\n",
       "3    0.078914\n",
       "4   -7.105646\n",
       "5   -6.290206\n",
       "dtype: float64"
      ]
     },
     "execution_count": 10,
     "metadata": {},
     "output_type": "execute_result"
    }
   ],
   "source": [
    "df['y_pred']=b0 + (b1*df['m_height'])\n",
    "df['y_pred']-df['d_height']"
   ]
  },
  {
   "cell_type": "code",
   "execution_count": 11,
   "id": "01d54ed4",
   "metadata": {},
   "outputs": [
    {
     "data": {
      "text/plain": [
       "21.154341600895407"
      ]
     },
     "execution_count": 11,
     "metadata": {},
     "output_type": "execute_result"
    }
   ],
   "source": [
    "mse=np.sum((df['y_pred']-df['d_height'])**2)/len(df)\n",
    "mse"
   ]
  },
  {
   "cell_type": "code",
   "execution_count": 12,
   "id": "eb5dbf49",
   "metadata": {},
   "outputs": [
    {
     "data": {
      "text/plain": [
       "4.599384915496354"
      ]
     },
     "execution_count": 12,
     "metadata": {},
     "output_type": "execute_result"
    }
   ],
   "source": [
    "rmse=mse**0.5\n",
    "rmse"
   ]
  },
  {
   "cell_type": "code",
   "execution_count": 13,
   "id": "c429a9fa",
   "metadata": {},
   "outputs": [],
   "source": [
    "from sklearn.linear_model import LinearRegression\n",
    "from sklearn.metrics import mean_squared_error"
   ]
  },
  {
   "cell_type": "code",
   "execution_count": 15,
   "id": "c02076d0",
   "metadata": {},
   "outputs": [
    {
     "name": "stdout",
     "output_type": "stream",
     "text": [
      "Intercept (b0): -13.249581239530976\n",
      "Slope (b1): 1.2060301507537687\n",
      "Mean Squared Error: 6.101619207146855\n",
      " Root Mean Squared Error: 2.470145584200829\n"
     ]
    }
   ],
   "source": [
    "# Features and target\n",
    "X = df[['m_height']]  # Feature matrix (must be 2D for sklearn)\n",
    "y = df['d_height']    # Target variable\n",
    "\n",
    "# Initialize and fit the model\n",
    "model = LinearRegression()\n",
    "model.fit(X, y)\n",
    "\n",
    "# Make predictions\n",
    "y_pred = model.predict(X)\n",
    "\n",
    "# Print model parameters\n",
    "print(f'Intercept (b0): {model.intercept_}')\n",
    "print(f'Slope (b1): {model.coef_[0]}')\n",
    "\n",
    "# Evaluate the model\n",
    "mse = mean_squared_error(y, y_pred)\n",
    "print(f'Mean Squared Error: {mse}')\n",
    "\n",
    "print(f'Root Mean Squared Error: {mse**0.5}')"
   ]
  },
  {
   "cell_type": "code",
   "execution_count": 17,
   "id": "8cd2d41c",
   "metadata": {},
   "outputs": [],
   "source": [
    "import matplotlib.pyplot as plt"
   ]
  },
  {
   "cell_type": "code",
   "execution_count": 18,
   "id": "d18218d0",
   "metadata": {},
   "outputs": [
    {
     "data": {
      "text/plain": [
       "<matplotlib.collections.PathCollection at 0x79daa1d43710>"
      ]
     },
     "execution_count": 18,
     "metadata": {},
     "output_type": "execute_result"
    },
    {
     "data": {
      "image/png": "[encoded data removed]",
      "text/plain": [
       "<Figure size 640x480 with 1 Axes>"
      ]
     },
     "metadata": {},
     "output_type": "display_data"
    }
   ],
   "source": [
    "plt.scatter(df['m_height'],df['d_height'],color='blue',marker='o',label='Actual data')\n",
    "plt.scatter(df['m_height'],df['y_pred'],color='red',marker='o',label='Predicted data')"
   ]
  },
  {
   "cell_type": "code",
   "execution_count": 19,
   "id": "1eaf8ef9",
   "metadata": {},
   "outputs": [
    {
     "data": {
      "text/plain": [
       "59.14043457335433"
      ]
     },
     "execution_count": 19,
     "metadata": {},
     "output_type": "execute_result"
    }
   ],
   "source": [
    "#Predict with m_height=63\n",
    "b0 + (b1*63)"
   ]
  },
  {
   "cell_type": "code",
   "execution_count": 21,
   "id": "fb3dc70f",
   "metadata": {},
   "outputs": [
    {
     "data": {
      "text/plain": [
       "<matplotlib.collections.PathCollection at 0x79daa1e312b0>"
      ]
     },
     "execution_count": 21,
     "metadata": {},
     "output_type": "execute_result"
    },
    {
     "data": {
      "image/png": "[encoded data removed]",
      "text/plain": [
       "<Figure size 640x480 with 1 Axes>"
      ]
     },
     "metadata": {},
     "output_type": "display_data"
    }
   ],
   "source": [
    "iter=[0,1,2,3]\n",
    "plt.scatter(iter,errors,color='green',marker='o')"
   ]
  }
 ],
 "metadata": {
  "kernelspec": {
   "display_name": "Python 3 (ipykernel)",
   "language": "python",
   "name": "python3"
  },
  "language_info": {
   "codemirror_mode": {
    "name": "ipython",
    "version": 3
   },
   "file_extension": ".py",
   "mimetype": "text/x-python",
   "name": "python",
   "nbconvert_exporter": "python",
   "pygments_lexer": "ipython3",
   "version": "3.12.3"
  }
 },
 "nbformat": 4,
 "nbformat_minor": 5
}
